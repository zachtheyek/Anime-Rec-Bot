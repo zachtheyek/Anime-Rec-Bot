{
 "cells": [
  {
   "cell_type": "markdown",
   "metadata": {},
   "source": [
    "# Introduction \n",
    "\n",
    "We defined a pipeline in `src/utils.py` to obtain the top animes most similar to a given title. The relevant analyses are detailed in `analysis.ipynb`. Here, we provide a few examples of calling the `get_recommendations` function, as well as detailed explanations (where appropriate)."
   ]
  },
  {
   "cell_type": "markdown",
   "metadata": {},
   "source": [
    "# Import Dependencies\n",
    "\n",
    "To call the function, simply import it from within the repository (`src/utils.py`). Assuming the pandas library is installed and active inside your current environment, no other dependencies are required."
   ]
  },
  {
   "cell_type": "code",
   "execution_count": 1,
   "metadata": {},
   "outputs": [],
   "source": [
    "import pandas as pd\n",
    "from src.utils import get_recommendations"
   ]
  },
  {
   "cell_type": "markdown",
   "metadata": {},
   "source": [
    "# Example 1\n",
    "\n",
    "The most straightforward way of calling the `get_recommendations` function is to simply pass in an anime title of your choice. Here, we use the 2002 anime series - Naruto, as our working example. \n",
    "\n",
    "<img src=\"src/Naruto.png\" alt=\"Naruto\" width=\"300\"/>\n",
    "\n",
    "Notice that the function outputs the top 5 anime series, ranked in descending order, according to their similarity scores (denoted as a percentage)."
   ]
  },
  {
   "cell_type": "code",
   "execution_count": 2,
   "metadata": {},
   "outputs": [
    {
     "name": "stdout",
     "output_type": "stream",
     "text": [
      "Calibrating, please wait...\n",
      "Fetching recommendations...\n",
      "Since you watched Naruto, we recommend:\n",
      "\n",
      "\t #1 - Sword Art Online (29.19% match)\n",
      "\t #2 - Bleach (28.06% match)\n",
      "\t #3 - Elfen Lied (27.78% match)\n",
      "\t #4 - Ao no Exorcist (26.80% match)\n",
      "\t #5 - Shaman King (22.70% match)\n"
     ]
    }
   ],
   "source": [
    "get_recommendations('Naruto')"
   ]
  },
  {
   "cell_type": "markdown",
   "metadata": {},
   "source": [
    "## Example 1.1\n",
    "\n",
    "Do be careful with typos, as demonstrated here:"
   ]
  },
  {
   "cell_type": "code",
   "execution_count": 3,
   "metadata": {},
   "outputs": [
    {
     "name": "stdout",
     "output_type": "stream",
     "text": [
      "Calibrating, please wait...\n",
      "Anime title not found. Please check for typos, or perhaps try using the anime's original (phonetic Japanese) name.\n"
     ]
    }
   ],
   "source": [
    "get_recommendations('Maruto')"
   ]
  },
  {
   "cell_type": "markdown",
   "metadata": {},
   "source": [
    "## Example 1.2\n",
    "\n",
    "The pipeline is also not case-sensitive (yet), so passing in a wrongly-capitalized title will also throw an error."
   ]
  },
  {
   "cell_type": "code",
   "execution_count": 4,
   "metadata": {},
   "outputs": [
    {
     "name": "stdout",
     "output_type": "stream",
     "text": [
      "Calibrating, please wait...\n",
      "Anime title not found. Please check for typos, or perhaps try using the anime's original (phonetic Japanese) name.\n"
     ]
    }
   ],
   "source": [
    "get_recommendations('naruto')"
   ]
  },
  {
   "cell_type": "markdown",
   "metadata": {},
   "source": [
    "## Example 1.3\n",
    "\n",
    "Finally, since this recommendation engine is built off the back of the [myanimelist.net](https://myanimelist.net/) API, it remains at the mercy of their internal naming conventions. In other words, passing in a title like \"Attack on Titan\" will result in an error message."
   ]
  },
  {
   "cell_type": "code",
   "execution_count": 5,
   "metadata": {},
   "outputs": [
    {
     "name": "stdout",
     "output_type": "stream",
     "text": [
      "Calibrating, please wait...\n",
      "Anime title not found. Please check for typos, or perhaps try using the anime's original (phonetic Japanese) name.\n"
     ]
    }
   ],
   "source": [
    "get_recommendations('Attack on Titan')"
   ]
  },
  {
   "cell_type": "markdown",
   "metadata": {},
   "source": [
    "Instead, one would have to pass in its phonetic Japanese name, exactly as it's listed on [myanimelist.net](https://myanimelist.net/).\n",
    "\n",
    "<img src=\"src/AoT.png\" alt=\"Shingeki no Kyojin\" width=\"300\"/>"
   ]
  },
  {
   "cell_type": "code",
   "execution_count": 6,
   "metadata": {},
   "outputs": [
    {
     "name": "stdout",
     "output_type": "stream",
     "text": [
      "Calibrating, please wait...\n",
      "Fetching recommendations...\n",
      "Since you watched Shingeki no Kyojin, we recommend:\n",
      "\n",
      "\t #1 - No Game No Life (55.45% match)\n",
      "\t #2 - Death Note (49.32% match)\n",
      "\t #3 - Angel Beats! (48.91% match)\n",
      "\t #4 - Noragami (48.71% match)\n",
      "\t #5 - One Punch Man (48.08% match)\n"
     ]
    }
   ],
   "source": [
    "get_recommendations('Shingeki no Kyojin')"
   ]
  },
  {
   "cell_type": "markdown",
   "metadata": {},
   "source": [
    "While there are plans to implement features to remedy some of these issues (e.g. case-invariance, fuzzy lookup, etc.), for now if you're ever unsure, just head over to [myanimelist.net](https://myanimelist.net/) and search for the title of your choice. Once you've verified its name (and preferably copied it to your clipboard), come back and feed it into the `get_recommendations` pipeline to get similar titles. "
   ]
  },
  {
   "cell_type": "markdown",
   "metadata": {},
   "source": [
    "## Example 1.4\n",
    "\n",
    "Unfortunately, there are also edge-cases where an anime is simply not available through the [myanimelist.net](https://myanimelist.net/) catalog. Take for instance, the 2011 drama series - Anohana, which at the time of writing, is only available through Netflix and Funimation.\n",
    "\n",
    "<img src=\"src/Anohana.png\" alt=\"Anohana\" width=\"800\"/>"
   ]
  },
  {
   "cell_type": "code",
   "execution_count": 7,
   "metadata": {},
   "outputs": [
    {
     "name": "stdout",
     "output_type": "stream",
     "text": [
      "Calibrating, please wait...\n",
      "Anime title not found. Please check for typos, or perhaps try using the anime's original (phonetic Japanese) name.\n"
     ]
    }
   ],
   "source": [
    "get_recommendations('Anohana')"
   ]
  },
  {
   "cell_type": "markdown",
   "metadata": {},
   "source": [
    "Instances like these are unavoidable, and there are no plans to introduce fixes to patch this :("
   ]
  },
  {
   "cell_type": "markdown",
   "metadata": {},
   "source": [
    "# Example 2\n",
    "\n",
    "One can also pass in an argument to the `num_recs` parameter to toggle the number of recommendations you would like to receive. The default value, as you may have noticed, is 5."
   ]
  },
  {
   "cell_type": "code",
   "execution_count": 8,
   "metadata": {},
   "outputs": [
    {
     "name": "stdout",
     "output_type": "stream",
     "text": [
      "Calibrating, please wait...\n",
      "Fetching recommendations...\n",
      "Since you watched Dragon Ball Z, we recommend:\n",
      "\n",
      "\t #1 - Dragon Ball (75.66% match)\n",
      "\t #2 - Fullmetal Alchemist (41.05% match)\n",
      "\t #3 - Death Note (40.74% match)\n",
      "\t #4 - Code Geass: Hangyaku no Lelouch (35.49% match)\n",
      "\t #5 - Yuu☆Yuu☆Hakusho (35.46% match)\n",
      "\t #6 - Neon Genesis Evangelion (35.22% match)\n",
      "\t #7 - Digimon Adventure (34.57% match)\n",
      "\t #8 - Rurouni Kenshin: Meiji Kenkaku Romantan (33.88% match)\n",
      "\t #9 - Dragon Ball Kai (33.80% match)\n",
      "\t #10 - Code Geass: Hangyaku no Lelouch R2 (33.58% match)\n"
     ]
    }
   ],
   "source": [
    "get_recommendations('Dragon Ball Z', num_recs=10)"
   ]
  },
  {
   "cell_type": "markdown",
   "metadata": {},
   "source": [
    "# Example 3\n",
    "\n",
    "Passing in an argument for the `threshold` parameter allows you finer control over the minimum similarity value you'd like to receive recommendations for. The default value stands at 0.2."
   ]
  },
  {
   "cell_type": "code",
   "execution_count": 9,
   "metadata": {},
   "outputs": [
    {
     "name": "stdout",
     "output_type": "stream",
     "text": [
      "Calibrating, please wait...\n",
      "Fetching recommendations...\n",
      "Since you watched Dragon Ball Z, we recommend:\n",
      "\n",
      "\t #1 - Dragon Ball (75.66% match)\n",
      "\t #2 - Fullmetal Alchemist (41.05% match)\n",
      "\t #3 - Death Note (40.74% match)\n",
      "\n",
      "No more recommendations found.\n"
     ]
    }
   ],
   "source": [
    "get_recommendations('Dragon Ball Z', num_recs=10, threshold=0.4)"
   ]
  },
  {
   "cell_type": "markdown",
   "metadata": {},
   "source": [
    "Notice that if there are less recommendations that fit your criteria than requested, the function will print the ones that are satisfactory, and display a warning message at the end ."
   ]
  },
  {
   "cell_type": "markdown",
   "metadata": {},
   "source": [
    "## Example 3.1\n",
    "\n",
    "Naturally, if you're not receiving any recommendations, try lowering the similarity threshold."
   ]
  },
  {
   "cell_type": "code",
   "execution_count": 10,
   "metadata": {},
   "outputs": [
    {
     "name": "stdout",
     "output_type": "stream",
     "text": [
      "Calibrating, please wait...\n",
      "Fetching recommendations...\n",
      "No recommendations found for Dragon Ball Z with a similarity score of 0.8 or greater.\n"
     ]
    }
   ],
   "source": [
    "get_recommendations('Dragon Ball Z', num_recs=10, threshold=0.8)"
   ]
  },
  {
   "cell_type": "markdown",
   "metadata": {},
   "source": [
    "# Example 4\n",
    "\n",
    "Finally, you can toggle the `type` parameter to get titles that are not necessarily of the same type as your input (\"type\" here refers to categories like TV, movie, special, OVA, etc.). The default is set to `True`, meaning if you pass in an anime series, you won't receive recommendations for movies, even if they have an acceptable similarity score."
   ]
  },
  {
   "cell_type": "code",
   "execution_count": 11,
   "metadata": {},
   "outputs": [
    {
     "name": "stdout",
     "output_type": "stream",
     "text": [
      "Calibrating, please wait...\n",
      "Fetching recommendations...\n",
      "Since you watched Dragon Ball Z, we recommend:\n",
      "\n",
      "\t #1 - Dragon Ball (75.66% match)\n",
      "\t #2 - Fullmetal Alchemist (41.05% match)\n",
      "\t #3 - Death Note (40.74% match)\n",
      "\t #4 - Dragon Ball Z Special 2: Zetsubou e no Hankou!! Nokosareta Chousenshi - Gohan to Trunks (35.85% match)\n",
      "\t #5 - Code Geass: Hangyaku no Lelouch (35.49% match)\n",
      "\t #6 - Yuu☆Yuu☆Hakusho (35.46% match)\n",
      "\t #7 - Neon Genesis Evangelion (35.22% match)\n",
      "\t #8 - Digimon Adventure (34.57% match)\n",
      "\t #9 - Rurouni Kenshin: Meiji Kenkaku Romantan (33.88% match)\n",
      "\t #10 - Dragon Ball Kai (33.80% match)\n",
      "\t #11 - Code Geass: Hangyaku no Lelouch R2 (33.58% match)\n",
      "\t #12 - Trigun (32.88% match)\n",
      "\t #13 - Cowboy Bebop (32.87% match)\n",
      "\t #14 - Tengen Toppa Gurren Lagann (32.78% match)\n",
      "\t #15 - Fullmetal Alchemist: Brotherhood (32.42% match)\n",
      "\t #16 - Samurai Champloo (32.09% match)\n",
      "\t #17 - Dragon Ball Z Special 1: Tatta Hitori no Saishuu Kessen (32.08% match)\n",
      "\t #18 - Soul Eater (31.73% match)\n",
      "\t #19 - Shingeki no Kyojin (30.88% match)\n",
      "\t #20 - Clannad (30.78% match)\n"
     ]
    }
   ],
   "source": [
    "get_recommendations('Dragon Ball Z', num_recs=20, threshold=0.25, type=False)"
   ]
  },
  {
   "cell_type": "markdown",
   "metadata": {},
   "source": [
    "Notice here that #4 and #17 are both specials, which would've been rejected had we not specified `type=False`."
   ]
  },
  {
   "cell_type": "markdown",
   "metadata": {},
   "source": [
    "# Example 5\n",
    "\n",
    "The only thing left to mention is the time complexity of the recommendation pipeline. As you might have noticed from running the notebook yourself, each function call takes about ~1.5 mins to complete on a typical machine, which is mainly due to it having to read in the full database of pairwise similarity scores between 11161 unique titles from local csv files at each runtime. If you're expecting to make several calls to `get_recommendations` and want to speed it up, you can read the data into memory beforehand, and pass them in as additional arguments via the `df_list` parameter. (Note: if you're reading in the data using the `pandas.read_csv` utility, disable the `low_memory` parameter to avoid a DType error.) "
   ]
  },
  {
   "cell_type": "code",
   "execution_count": 12,
   "metadata": {},
   "outputs": [],
   "source": [
    "# Read in dataframes\n",
    "similarities = pd.read_csv('src/similarities.csv', low_memory=False)\n",
    "features = pd.read_csv('src/features.csv', low_memory=False)"
   ]
  },
  {
   "cell_type": "code",
   "execution_count": 13,
   "metadata": {},
   "outputs": [
    {
     "name": "stdout",
     "output_type": "stream",
     "text": [
      "Calibrating, please wait...\n",
      "Fetching recommendations...\n",
      "Since you watched Dragon Ball Z, we recommend:\n",
      "\n",
      "\t #1 - Dragon Ball (75.66% match)\n",
      "\t #2 - Fullmetal Alchemist (41.05% match)\n",
      "\t #3 - Death Note (40.74% match)\n",
      "\t #4 - Dragon Ball Z Special 2: Zetsubou e no Hankou!! Nokosareta Chousenshi - Gohan to Trunks (35.85% match)\n",
      "\t #5 - Code Geass: Hangyaku no Lelouch (35.49% match)\n",
      "\t #6 - Yuu☆Yuu☆Hakusho (35.46% match)\n",
      "\t #7 - Neon Genesis Evangelion (35.22% match)\n",
      "\t #8 - Digimon Adventure (34.57% match)\n",
      "\t #9 - Rurouni Kenshin: Meiji Kenkaku Romantan (33.88% match)\n",
      "\t #10 - Dragon Ball Kai (33.80% match)\n",
      "\t #11 - Code Geass: Hangyaku no Lelouch R2 (33.58% match)\n",
      "\t #12 - Trigun (32.88% match)\n",
      "\t #13 - Cowboy Bebop (32.87% match)\n",
      "\t #14 - Tengen Toppa Gurren Lagann (32.78% match)\n",
      "\t #15 - Fullmetal Alchemist: Brotherhood (32.42% match)\n",
      "\t #16 - Samurai Champloo (32.09% match)\n",
      "\t #17 - Dragon Ball Z Special 1: Tatta Hitori no Saishuu Kessen (32.08% match)\n",
      "\t #18 - Soul Eater (31.73% match)\n",
      "\t #19 - Shingeki no Kyojin (30.88% match)\n",
      "\t #20 - Clannad (30.78% match)\n"
     ]
    }
   ],
   "source": [
    "get_recommendations('Dragon Ball Z', num_recs=20, threshold=0.3, type=False, df_list=[similarities, features])"
   ]
  },
  {
   "cell_type": "markdown",
   "metadata": {},
   "source": [
    "## Example 5.1\n",
    "\n",
    "The order of `df_list` is not important."
   ]
  },
  {
   "cell_type": "code",
   "execution_count": 14,
   "metadata": {},
   "outputs": [
    {
     "name": "stdout",
     "output_type": "stream",
     "text": [
      "Calibrating, please wait...\n",
      "Fetching recommendations...\n",
      "Since you watched Dragon Ball Z, we recommend:\n",
      "\n",
      "\t #1 - Dragon Ball (75.66% match)\n",
      "\t #2 - Fullmetal Alchemist (41.05% match)\n",
      "\t #3 - Death Note (40.74% match)\n",
      "\t #4 - Dragon Ball Z Special 2: Zetsubou e no Hankou!! Nokosareta Chousenshi - Gohan to Trunks (35.85% match)\n",
      "\t #5 - Code Geass: Hangyaku no Lelouch (35.49% match)\n",
      "\t #6 - Yuu☆Yuu☆Hakusho (35.46% match)\n",
      "\t #7 - Neon Genesis Evangelion (35.22% match)\n",
      "\t #8 - Digimon Adventure (34.57% match)\n",
      "\t #9 - Rurouni Kenshin: Meiji Kenkaku Romantan (33.88% match)\n",
      "\t #10 - Dragon Ball Kai (33.80% match)\n",
      "\t #11 - Code Geass: Hangyaku no Lelouch R2 (33.58% match)\n",
      "\t #12 - Trigun (32.88% match)\n",
      "\t #13 - Cowboy Bebop (32.87% match)\n",
      "\t #14 - Tengen Toppa Gurren Lagann (32.78% match)\n",
      "\t #15 - Fullmetal Alchemist: Brotherhood (32.42% match)\n",
      "\t #16 - Samurai Champloo (32.09% match)\n",
      "\t #17 - Dragon Ball Z Special 1: Tatta Hitori no Saishuu Kessen (32.08% match)\n",
      "\t #18 - Soul Eater (31.73% match)\n",
      "\t #19 - Shingeki no Kyojin (30.88% match)\n",
      "\t #20 - Clannad (30.78% match)\n"
     ]
    }
   ],
   "source": [
    "get_recommendations('Dragon Ball Z', num_recs=20, threshold=0.3, type=False, df_list=[features, similarities])"
   ]
  },
  {
   "cell_type": "markdown",
   "metadata": {},
   "source": [
    "## Example 5.2\n",
    "\n",
    "However, make sure you're reading in the correct csv files to begin with. Otherwise, the function will throw an error if any of the elements in `df_list` have incorrect shapes, and default back to reading in the data on file."
   ]
  },
  {
   "cell_type": "code",
   "execution_count": 15,
   "metadata": {},
   "outputs": [],
   "source": [
    "# Read in random dataframes to test error handling\n",
    "anime = pd.read_csv('data/anime.csv')\n",
    "rating = pd.read_csv('data/rating.csv')"
   ]
  },
  {
   "cell_type": "code",
   "execution_count": 16,
   "metadata": {},
   "outputs": [
    {
     "name": "stdout",
     "output_type": "stream",
     "text": [
      "Calibrating, please wait...\n",
      "Error: Incorrect dataframe shape, expecting (11161, 11161). Reading in dataframes from file...\n",
      "Fetching recommendations...\n",
      "Error: Incorrect dataframe shape, expecting (7813611, 7). Reading in dataframes from file...\n",
      "Since you watched Dragon Ball Z, we recommend:\n",
      "\n",
      "\t #1 - Dragon Ball (75.66% match)\n",
      "\t #2 - Fullmetal Alchemist (41.05% match)\n",
      "\t #3 - Death Note (40.74% match)\n",
      "\t #4 - Dragon Ball Z Special 2: Zetsubou e no Hankou!! Nokosareta Chousenshi - Gohan to Trunks (35.85% match)\n",
      "\t #5 - Code Geass: Hangyaku no Lelouch (35.49% match)\n",
      "\t #6 - Yuu☆Yuu☆Hakusho (35.46% match)\n",
      "\t #7 - Neon Genesis Evangelion (35.22% match)\n",
      "\t #8 - Digimon Adventure (34.57% match)\n",
      "\t #9 - Rurouni Kenshin: Meiji Kenkaku Romantan (33.88% match)\n",
      "\t #10 - Dragon Ball Kai (33.80% match)\n",
      "\t #11 - Code Geass: Hangyaku no Lelouch R2 (33.58% match)\n",
      "\t #12 - Trigun (32.88% match)\n",
      "\t #13 - Cowboy Bebop (32.87% match)\n",
      "\t #14 - Tengen Toppa Gurren Lagann (32.78% match)\n",
      "\t #15 - Fullmetal Alchemist: Brotherhood (32.42% match)\n",
      "\t #16 - Samurai Champloo (32.09% match)\n",
      "\t #17 - Dragon Ball Z Special 1: Tatta Hitori no Saishuu Kessen (32.08% match)\n",
      "\t #18 - Soul Eater (31.73% match)\n",
      "\t #19 - Shingeki no Kyojin (30.88% match)\n",
      "\t #20 - Clannad (30.78% match)\n"
     ]
    }
   ],
   "source": [
    "get_recommendations('Dragon Ball Z', num_recs=20, threshold=0.3, type=False, df_list=[anime, rating])"
   ]
  },
  {
   "cell_type": "markdown",
   "metadata": {},
   "source": [
    "Notice that, when done correctly, the function takes only a few seconds, versus the ~1.5 minutes we saw from previous examples. This could prove to be crucial, since the time saved compounds as the number of consecutive function calls increases. "
   ]
  }
 ],
 "metadata": {
  "interpreter": {
   "hash": "40d3a090f54c6569ab1632332b64b2c03c39dcf918b08424e98f38b5ae0af88f"
  },
  "kernelspec": {
   "display_name": "Python 3.8.11 64-bit ('base': conda)",
   "language": "python",
   "name": "python3"
  },
  "language_info": {
   "codemirror_mode": {
    "name": "ipython",
    "version": 3
   },
   "file_extension": ".py",
   "mimetype": "text/x-python",
   "name": "python",
   "nbconvert_exporter": "python",
   "pygments_lexer": "ipython3",
   "version": "3.8.11"
  },
  "orig_nbformat": 4
 },
 "nbformat": 4,
 "nbformat_minor": 2
}
